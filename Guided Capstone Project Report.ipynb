{
 "cells": [
  {
   "cell_type": "code",
   "execution_count": 11,
   "id": "0cb7755c",
   "metadata": {},
   "outputs": [],
   "source": [
    "#Santiago Osorio\n",
    "#01/01/2024\n",
    "#Big Mountain Resort Findings\n",
    "\n",
    "#Guided Capstone Project Report\n",
    "\n",
    "#Objective: Big Mountain resort hired us to determine whether or not their price model meets and compares to others in the industry. Additionally, they wanted to run scenarios that may impact their pricing.\n",
    "\n",
    "#Key findings:\n",
    "\n",
    "#Important features: It was discovered Big Mountain wanted to highlight their vertical drop, snow making ac, number of chairs, fast quads, runs, longest run (mi\t), trams, and skiable terrain.\n",
    "#Scenario Analysis: The gist is Big Mountain pricing was not the highest across the board but only in Montana. All other parameters requested were strongly competitive with other resorts.\n",
    "#Potential Price Change: With Big Mountain having a strong competitive level of amenities, the price of $81.00 per Adult weekend ticket did not appear to be viable anymore. Based on the model, Big Mountain should raise prices to $95.87.\n",
    "#Scenarios: The scenarios requested by Big Mountain were queried through the model and yielded no significant impact. Other scenarios should be sought. Scenarios 1-3 can be modified, Scenario 4 returned a 0.0 change.\n",
    "\n",
    "#Recommendations:\n",
    "\n",
    "#Raise Ticket Prices: Based on the information provided above, Big Mountain has grounds to constitute a price adjustment. Big Mountain is advised to increase their ticket price of $81.00 to around $95.87 or just $96.00.\n",
    "#Future Scenarios: The scenarios provided by leadership were queried and responses were returned. Should Big Mountain require additional testing, they may return to this worker and discuss compensation for additional queries.\n",
    "#Further Investigation: Leadership must determine other costs that may affect the key findings in order to reassess any changes they may have on the ticket pricing. Should there be additional costs with additions, then the model should be updated to reflect that. As such, the opposite must also occur.\n",
    "\n",
    "#Conclusion: By requesting assistance and creating this model, Big Mountain was able to analyze industry data and use it to make data driven changes in terms of their pricing. This data gathered will support an increase in pricing and provide a constant tool to test scenarios.\n",
    "\n",
    "#Next Steps: Implement the pricing change and monitor the changes resulting from it. Continue to make changes as new information is discovered or updated. ***"
   ]
  },
  {
   "cell_type": "code",
   "execution_count": null,
   "id": "da6dade7",
   "metadata": {},
   "outputs": [],
   "source": []
  }
 ],
 "metadata": {
  "kernelspec": {
   "display_name": "Python 3 (ipykernel)",
   "language": "python",
   "name": "python3"
  },
  "language_info": {
   "codemirror_mode": {
    "name": "ipython",
    "version": 3
   },
   "file_extension": ".py",
   "mimetype": "text/x-python",
   "name": "python",
   "nbconvert_exporter": "python",
   "pygments_lexer": "ipython3",
   "version": "3.10.9"
  }
 },
 "nbformat": 4,
 "nbformat_minor": 5
}
